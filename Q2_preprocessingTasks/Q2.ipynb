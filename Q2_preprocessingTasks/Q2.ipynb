{
 "cells": [
  {
   "cell_type": "markdown",
   "metadata": {
    "id": "VPxYbEyahMS4"
   },
   "source": [
    "## 2. Perform the following preprocessing tasks on the dirty_iris datasetii.\n",
    "i) Calculate the number and percentage of observations that are complete.\n",
    "\n",
    "ii) Replace all the special values in data with NA.\n",
    "\n",
    "iii) Define these rules in a separate text file and read them.\n",
    "\n",
    "(Use editfile function in R (package editrules). Use similar function in Python). Print the resulting constraint object.\n",
    "\n",
    "– Species should be one of the following values: setosa, versicolor or virginica.\n",
    "\n",
    "– All measured numerical properties of an iris should be positive.\n",
    "\n",
    "– The petal length of an iris is at least 2 times its petal width.\n",
    "\n",
    "– The sepal length of an iris cannot exceed 30 cm.\n",
    "\n",
    "– The sepals of an iris are longer than its petals.\n",
    "\n",
    "iv)Determine how often each rule is broken (violatedEdits). Also summarize and plot the result.\n",
    "\n",
    "v) Find outliers in sepal length using boxplot and boxplot.stats"
   ]
  },
  {
   "cell_type": "code",
   "execution_count": 58,
   "metadata": {
    "id": "4onrjPcUhPAp"
   },
   "outputs": [],
   "source": [
    "#importing libraries\n",
    "import pandas as pd\n",
    "import numpy as np\n",
    "import seaborn as sns\n",
    "import matplotlib.pyplot as plt"
   ]
  },
  {
   "cell_type": "code",
   "execution_count": 8,
   "metadata": {
    "id": "bz-mM3svk9su"
   },
   "outputs": [],
   "source": [
    "# Load dirty_iris dataset\n",
    "df = pd.read_csv('https://raw.githubusercontent.com/edwindj/datacleaning/master/data/dirty_iris.csv')"
   ]
  },
  {
   "cell_type": "code",
   "execution_count": 9,
   "metadata": {
    "colab": {
     "base_uri": "https://localhost:8080/",
     "height": 423
    },
    "id": "ggtic1kL1eTn",
    "outputId": "a0374ffa-48e7-40b6-bcd7-691bdb2017be"
   },
   "outputs": [
    {
     "data": {
      "text/html": [
       "<div>\n",
       "<style scoped>\n",
       "    .dataframe tbody tr th:only-of-type {\n",
       "        vertical-align: middle;\n",
       "    }\n",
       "\n",
       "    .dataframe tbody tr th {\n",
       "        vertical-align: top;\n",
       "    }\n",
       "\n",
       "    .dataframe thead th {\n",
       "        text-align: right;\n",
       "    }\n",
       "</style>\n",
       "<table border=\"1\" class=\"dataframe\">\n",
       "  <thead>\n",
       "    <tr style=\"text-align: right;\">\n",
       "      <th></th>\n",
       "      <th>Sepal.Length</th>\n",
       "      <th>Sepal.Width</th>\n",
       "      <th>Petal.Length</th>\n",
       "      <th>Petal.Width</th>\n",
       "      <th>Species</th>\n",
       "    </tr>\n",
       "  </thead>\n",
       "  <tbody>\n",
       "    <tr>\n",
       "      <th>0</th>\n",
       "      <td>6.4</td>\n",
       "      <td>3.2</td>\n",
       "      <td>4.5</td>\n",
       "      <td>1.5</td>\n",
       "      <td>versicolor</td>\n",
       "    </tr>\n",
       "    <tr>\n",
       "      <th>1</th>\n",
       "      <td>6.3</td>\n",
       "      <td>3.3</td>\n",
       "      <td>6.0</td>\n",
       "      <td>2.5</td>\n",
       "      <td>virginica</td>\n",
       "    </tr>\n",
       "    <tr>\n",
       "      <th>2</th>\n",
       "      <td>6.2</td>\n",
       "      <td>NaN</td>\n",
       "      <td>5.4</td>\n",
       "      <td>2.3</td>\n",
       "      <td>virginica</td>\n",
       "    </tr>\n",
       "    <tr>\n",
       "      <th>3</th>\n",
       "      <td>5.0</td>\n",
       "      <td>3.4</td>\n",
       "      <td>1.6</td>\n",
       "      <td>0.4</td>\n",
       "      <td>setosa</td>\n",
       "    </tr>\n",
       "    <tr>\n",
       "      <th>4</th>\n",
       "      <td>5.7</td>\n",
       "      <td>2.6</td>\n",
       "      <td>3.5</td>\n",
       "      <td>1.0</td>\n",
       "      <td>versicolor</td>\n",
       "    </tr>\n",
       "  </tbody>\n",
       "</table>\n",
       "</div>"
      ],
      "text/plain": [
       "   Sepal.Length  Sepal.Width  Petal.Length  Petal.Width     Species\n",
       "0           6.4          3.2           4.5          1.5  versicolor\n",
       "1           6.3          3.3           6.0          2.5   virginica\n",
       "2           6.2          NaN           5.4          2.3   virginica\n",
       "3           5.0          3.4           1.6          0.4      setosa\n",
       "4           5.7          2.6           3.5          1.0  versicolor"
      ]
     },
     "execution_count": 9,
     "metadata": {},
     "output_type": "execute_result"
    }
   ],
   "source": [
    "df.head()"
   ]
  },
  {
   "cell_type": "markdown",
   "metadata": {
    "id": "shABb2Wqmwb0"
   },
   "source": [
    "#### i)"
   ]
  },
  {
   "cell_type": "code",
   "execution_count": 12,
   "metadata": {
    "colab": {
     "base_uri": "https://localhost:8080/"
    },
    "id": "8Ll6BxjxliJ1",
    "outputId": "6fb5c7d3-3274-4e93-a3ba-49bbf3385053"
   },
   "outputs": [
    {
     "name": "stdout",
     "output_type": "stream",
     "text": [
      "Number of complete observations: 96\n",
      "Percentage of complete observations: 64.0 %\n"
     ]
    }
   ],
   "source": [
    "# number of complete observations\n",
    "complete_obs = df.notnull().all(axis=1).sum()\n",
    "print(\"Number of complete observations:\", complete_obs)\n",
    "\n",
    "# percentage of complete observations\n",
    "percent_complete_obs = round(complete_obs / len(df) * 100, 2)\n",
    "print(\"Percentage of complete observations:\", percent_complete_obs, \"%\")"
   ]
  },
  {
   "cell_type": "markdown",
   "metadata": {
    "id": "NHmeuQUEoJhB"
   },
   "source": [
    "#### ii)"
   ]
  },
  {
   "cell_type": "code",
   "execution_count": 13,
   "metadata": {
    "id": "6rVCM221l8Rq"
   },
   "outputs": [
    {
     "data": {
      "text/html": [
       "<div>\n",
       "<style scoped>\n",
       "    .dataframe tbody tr th:only-of-type {\n",
       "        vertical-align: middle;\n",
       "    }\n",
       "\n",
       "    .dataframe tbody tr th {\n",
       "        vertical-align: top;\n",
       "    }\n",
       "\n",
       "    .dataframe thead th {\n",
       "        text-align: right;\n",
       "    }\n",
       "</style>\n",
       "<table border=\"1\" class=\"dataframe\">\n",
       "  <thead>\n",
       "    <tr style=\"text-align: right;\">\n",
       "      <th></th>\n",
       "      <th>Sepal.Length</th>\n",
       "      <th>Sepal.Width</th>\n",
       "      <th>Petal.Length</th>\n",
       "      <th>Petal.Width</th>\n",
       "      <th>Species</th>\n",
       "    </tr>\n",
       "  </thead>\n",
       "  <tbody>\n",
       "    <tr>\n",
       "      <th>0</th>\n",
       "      <td>6.4</td>\n",
       "      <td>3.2</td>\n",
       "      <td>4.5</td>\n",
       "      <td>1.5</td>\n",
       "      <td>versicolor</td>\n",
       "    </tr>\n",
       "    <tr>\n",
       "      <th>1</th>\n",
       "      <td>6.3</td>\n",
       "      <td>3.3</td>\n",
       "      <td>6.0</td>\n",
       "      <td>2.5</td>\n",
       "      <td>virginica</td>\n",
       "    </tr>\n",
       "    <tr>\n",
       "      <th>2</th>\n",
       "      <td>6.2</td>\n",
       "      <td>NaN</td>\n",
       "      <td>5.4</td>\n",
       "      <td>2.3</td>\n",
       "      <td>virginica</td>\n",
       "    </tr>\n",
       "    <tr>\n",
       "      <th>3</th>\n",
       "      <td>5.0</td>\n",
       "      <td>3.4</td>\n",
       "      <td>1.6</td>\n",
       "      <td>0.4</td>\n",
       "      <td>setosa</td>\n",
       "    </tr>\n",
       "    <tr>\n",
       "      <th>4</th>\n",
       "      <td>5.7</td>\n",
       "      <td>2.6</td>\n",
       "      <td>3.5</td>\n",
       "      <td>1.0</td>\n",
       "      <td>versicolor</td>\n",
       "    </tr>\n",
       "  </tbody>\n",
       "</table>\n",
       "</div>"
      ],
      "text/plain": [
       "   Sepal.Length  Sepal.Width  Petal.Length  Petal.Width     Species\n",
       "0           6.4          3.2           4.5          1.5  versicolor\n",
       "1           6.3          3.3           6.0          2.5   virginica\n",
       "2           6.2          NaN           5.4          2.3   virginica\n",
       "3           5.0          3.4           1.6          0.4      setosa\n",
       "4           5.7          2.6           3.5          1.0  versicolor"
      ]
     },
     "execution_count": 13,
     "metadata": {},
     "output_type": "execute_result"
    }
   ],
   "source": [
    "# Replace all special values with NaN\n",
    "df.replace(['?', '*', '#'], np.nan, inplace=True)\n",
    "\n",
    "# View the first 5 rows of the dataset\n",
    "df.head()\n"
   ]
  },
  {
   "cell_type": "markdown",
   "metadata": {},
   "source": [
    "#### iii)"
   ]
  },
  {
   "cell_type": "code",
   "execution_count": 33,
   "metadata": {},
   "outputs": [],
   "source": [
    "def check_species(df):\n",
    "    x = df['Species'].apply(lambda x: x in {'setosa', 'versicolor', 'virginica'}) \n",
    "    violations = len(df) - np.sum(x)\n",
    "    \n",
    "    if violations == 0: \n",
    "        print('No Violation.')\n",
    "\n",
    "    else:\n",
    "        print('Violation: Invalid Species Name.') \n",
    "        print(f'Violations: {violations}')\n",
    "    \n",
    "    return violations"
   ]
  },
  {
   "cell_type": "code",
   "execution_count": 34,
   "metadata": {},
   "outputs": [
    {
     "name": "stdout",
     "output_type": "stream",
     "text": [
      "No Violation.\n"
     ]
    }
   ],
   "source": [
    "species_violations = check_species(df)"
   ]
  },
  {
   "cell_type": "code",
   "execution_count": 35,
   "metadata": {},
   "outputs": [],
   "source": [
    "def check_all_positive(df):\n",
    "    x = df.loc[:, 'Sepal.Length':'Petal.Width'].apply(lambda x: x > 0).values \n",
    "    x = x.reshape(-1)\n",
    "    violations = len(df) * 4 - np.sum(x)\n",
    "    \n",
    "    if violations == 0: \n",
    "        print('No Violation.')\n",
    "\n",
    "    else:\n",
    "        print('Violation: Non-positive Numerical Property.') \n",
    "        print(f'Violations: {violations}')\n",
    "    \n",
    "    return violations"
   ]
  },
  {
   "cell_type": "code",
   "execution_count": 36,
   "metadata": {},
   "outputs": [
    {
     "name": "stdout",
     "output_type": "stream",
     "text": [
      "Violation: Non-positive Numerical Property.\n",
      "Violations: 62\n"
     ]
    }
   ],
   "source": [
    "non_positive_violations = check_all_positive(df)"
   ]
  },
  {
   "cell_type": "code",
   "execution_count": 41,
   "metadata": {},
   "outputs": [],
   "source": [
    "def check_petal_length(df):\n",
    "    x = df['Petal.Length'] >= 2 * df['Petal.Width'] \n",
    "    violations = x.value_counts().loc[False]\n",
    "\n",
    "    if violations == 0: \n",
    "        print('No Violation.')\n",
    "\n",
    "    else:\n",
    "        print('Violation: Petal Length is less than twice its Petal Width.') \n",
    "        print(f'Violations: {violations}')\n",
    "\n",
    "    return violations"
   ]
  },
  {
   "cell_type": "code",
   "execution_count": 42,
   "metadata": {},
   "outputs": [
    {
     "name": "stdout",
     "output_type": "stream",
     "text": [
      "Violation: Petal Length is less than twice its Petal Width.\n",
      "Violations: 34\n"
     ]
    }
   ],
   "source": [
    "petal_length_violations = check_petal_length(df)"
   ]
  },
  {
   "cell_type": "code",
   "execution_count": 44,
   "metadata": {},
   "outputs": [],
   "source": [
    "def check_sepal_length(data):\n",
    "    x = data['Sepal.Length'] <= 30 \n",
    "    violations = x.value_counts().loc[False]\n",
    "\n",
    "    if violations == 0: \n",
    "        print('No Violation.')\n",
    "\n",
    "    else:\n",
    "        print('Violation: Sepal Length exceeded the value of 30cms.') \n",
    "        print(f'Violations: {violations}')\n",
    "    \n",
    "    return violations"
   ]
  },
  {
   "cell_type": "code",
   "execution_count": 46,
   "metadata": {},
   "outputs": [
    {
     "name": "stdout",
     "output_type": "stream",
     "text": [
      "Violation: Sepal Length exceeded the value of 30cms.\n",
      "Violations: 12\n"
     ]
    }
   ],
   "source": [
    "sepal_length_violations = check_sepal_length(df)"
   ]
  },
  {
   "cell_type": "code",
   "execution_count": 49,
   "metadata": {},
   "outputs": [],
   "source": [
    "def check_sepal_petal_length(df):\n",
    "    x = df['Sepal.Length'] > df['Petal.Length'] \n",
    "    violations = x.value_counts().loc[False]\n",
    "\n",
    "    if violations == 0: \n",
    "        print('No Violation.')\n",
    "\n",
    "    else:\n",
    "        print('Violation: Sepal Length are less than Petal Length.') \n",
    "        print(f'Violations: {violations}')\n",
    "\n",
    "    return violations"
   ]
  },
  {
   "cell_type": "code",
   "execution_count": 50,
   "metadata": {},
   "outputs": [
    {
     "name": "stdout",
     "output_type": "stream",
     "text": [
      "Violation: Sepal Length are less than Petal Length.\n",
      "Violations: 30\n"
     ]
    }
   ],
   "source": [
    "sepal_petal_violations = check_sepal_petal_length(df)"
   ]
  },
  {
   "cell_type": "code",
   "execution_count": 52,
   "metadata": {},
   "outputs": [
    {
     "data": {
      "image/png": "[encoded data removed]",
      "text/plain": [
       "<Figure size 936x360 with 1 Axes>"
      ]
     },
     "metadata": {
      "needs_background": "light"
     },
     "output_type": "display_data"
    }
   ],
   "source": [
    "rule_break_frequency = {\n",
    "    'Species Violations': species_violations, \n",
    "    'Non-Positive Violations': non_positive_violations, \n",
    "    'Petal Length Violations': petal_length_violations, \n",
    "    'Sepal Length Violations': sepal_length_violations, \n",
    "    'Sepal Petal Violations': sepal_petal_violations\n",
    "}\n",
    "fig = plt.figure(figsize=(13, 5)) \n",
    "plt.bar(rule_break_frequency.keys(), rule_break_frequency.values()) \n",
    "plt.show()"
   ]
  },
  {
   "cell_type": "code",
   "execution_count": 59,
   "metadata": {},
   "outputs": [
    {
     "data": {
      "image/png": "[encoded data removed]",
      "text/plain": [
       "<Figure size 432x288 with 1 Axes>"
      ]
     },
     "metadata": {
      "needs_background": "light"
     },
     "output_type": "display_data"
    }
   ],
   "source": [
    "x = [df[col] for col in df.columns[:-1]]\n",
    "\n",
    "box = plt.boxplot(x, labels=df.columns[:-1], patch_artist=True)\n",
    "\n",
    "plt.show()"
   ]
  },
  {
   "cell_type": "code",
   "execution_count": 60,
   "metadata": {},
   "outputs": [
    {
     "name": "stdout",
     "output_type": "stream",
     "text": [
      "dict_keys(['whiskers', 'caps', 'boxes', 'medians', 'fliers', 'means'])\n"
     ]
    }
   ],
   "source": [
    "print(box.keys())"
   ]
  },
  {
   "cell_type": "code",
   "execution_count": 61,
   "metadata": {},
   "outputs": [
    {
     "name": "stdout",
     "output_type": "stream",
     "text": [
      "Outliers in Sepal Length: []\n"
     ]
    }
   ],
   "source": [
    "outliers = [item.get_ydata() for item in box['fliers']] \n",
    "print(f'Outliers in Sepal Length: {outliers[0]}')"
   ]
  },
  {
   "cell_type": "markdown",
   "metadata": {},
   "source": [
    "### chatgpt\n"
   ]
  },
  {
   "cell_type": "code",
   "execution_count": null,
   "metadata": {},
   "outputs": [],
   "source": [
    "import pandas as pd\n",
    "import numpy as np\n",
    "import matplotlib.pyplot as plt\n",
    "import seaborn as sns\n",
    "\n",
    "# Load the dataset\n",
    "dirty_iris = pd.read_csv('dirty_iris.csv')\n"
   ]
  },
  {
   "cell_type": "code",
   "execution_count": null,
   "metadata": {},
   "outputs": [],
   "source": [
    "# Calculate the number and percentage of complete observations\n",
    "complete_obs = dirty_iris.dropna()\n",
    "num_complete_obs = len(complete_obs)\n",
    "pct_complete_obs = (num_complete_obs / len(dirty_iris)) * 100\n",
    "\n",
    "print(\"Number of complete observations:\", num_complete_obs)\n",
    "print(\"Percentage of complete observations:\", pct_complete_obs)\n"
   ]
  },
  {
   "cell_type": "code",
   "execution_count": null,
   "metadata": {},
   "outputs": [],
   "source": [
    "# Replace all special values with NA\n",
    "dirty_iris = dirty_iris.replace(to_replace=[\"?\", \"Iris-setossa\", \"Iris-versicolour\"], value=np.nan)\n"
   ]
  },
  {
   "cell_type": "code",
   "execution_count": null,
   "metadata": {},
   "outputs": [],
   "source": [
    "def check_rules(row):\n",
    "    # Rule 1: Species should be one of the following values: setosa, versicolor or virginica.\n",
    "    species = row['Species']\n",
    "    if species not in ['setosa', 'versicolor', 'virginica']:\n",
    "        return False\n",
    "    \n",
    "    # Rule 2: All measured numerical properties of an iris should be positive.\n",
    "    for prop in ['SepalLengthCm', 'SepalWidthCm', 'PetalLengthCm', 'PetalWidthCm']:\n",
    "        if row[prop] <= 0:\n",
    "            return False\n",
    "    \n",
    "    # Rule 3: The petal length of an iris is at least 2 times its petal width.\n",
    "    petal_length = row['PetalLengthCm']\n",
    "    petal_width = row['PetalWidthCm']\n",
    "    if petal_length < 2 * petal_width:\n",
    "        return False\n",
    "    \n",
    "    # Rule 4: The sepal length of an iris cannot exceed 30 cm.\n",
    "    sepal_length = row['SepalLengthCm']\n",
    "    if sepal_length > 30:\n",
    "        return False\n",
    "    \n",
    "    # Rule 5: The sepals of an iris are longer than its petals.\n",
    "    if sepal_length <= petal_length:\n",
    "        return False\n",
    "    \n",
    "    return True\n"
   ]
  },
  {
   "cell_type": "code",
   "execution_count": null,
   "metadata": {},
   "outputs": [],
   "source": [
    "# Apply the check_rules function to each row of the dataset\n",
    "rule_violations = dirty_iris.apply(lambda row: [rule for rule in range(1, 6) if not check_rules(row)] , axis=1)\n",
    "\n",
    "# Count the number of times each rule is violated\n",
    "violation_counts = rule_violations.apply(lambda x: pd.Series(x).value_counts()).fillna(0).astype(int).sum()\n",
    "\n",
    "# Summarize the results\n",
    "print(\"Number of times each rule is violated:\")\n",
    "print(violation_counts)"
   ]
  },
  {
   "cell_type": "code",
   "execution_count": null,
   "metadata": {},
   "outputs": [],
   "source": [
    "# Plot the results\n",
    "plt.figure(figsize=(8, 6))\n",
    "sns.barplot(x=violation_counts.index, y=violation_counts.values)\n",
    "plt.title(\"Number of times each rule is violated\")\n",
    "plt.xlabel(\"Rule number\")\n",
    "plt.ylabel(\"Count\")\n",
    "plt.show()\n"
   ]
  },
  {
   "cell_type": "code",
   "execution_count": null,
   "metadata": {},
   "outputs": [],
   "source": [
    "# Create a boxplot of sepal length\n",
    "plt.figure(figsize=(8, 6))\n",
    "sns.boxplot(x=dirty_iris[\"SepalLengthCm\"])\n",
    "plt.title(\"Boxplot of Sepal Length\")\n",
    "plt.xlabel(\"Sepal Length (cm)\")\n",
    "plt.show()\n",
    "\n",
    "# Use boxplot.stats to find outliers\n",
    "stats = boxplot.stats(dirty_iris[\"SepalLengthCm\"])\n",
    "print(\"Outliers in Sepal Length:\")\n",
    "print(stats[\"fliers\"])\n"
   ]
  },
  {
   "cell_type": "code",
   "execution_count": null,
   "metadata": {},
   "outputs": [],
   "source": []
  }
 ],
 "metadata": {
  "colab": {
   "provenance": []
  },
  "kernelspec": {
   "display_name": "Python 3 (ipykernel)",
   "language": "python",
   "name": "python3"
  },
  "language_info": {
   "codemirror_mode": {
    "name": "ipython",
    "version": 3
   },
   "file_extension": ".py",
   "mimetype": "text/x-python",
   "name": "python",
   "nbconvert_exporter": "python",
   "pygments_lexer": "ipython3",
   "version": "3.9.12"
  }
 },
 "nbformat": 4,
 "nbformat_minor": 1
}
