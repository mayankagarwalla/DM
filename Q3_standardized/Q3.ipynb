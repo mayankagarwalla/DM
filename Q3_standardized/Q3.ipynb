{
  "cells": [
    {
      "cell_type": "markdown",
      "source": [
        "## 3. \n",
        " Load the data from wine dataset. Check whether all attributes are standardized or not (mean is 0 and standard deviation is 1). If not, standardize the attributes. Do the same with Iris dataset.\n",
        "\n"
      ],
      "metadata": {
        "id": "_KcvLu6wvIax"
      }
    },
    {
      "cell_type": "code",
      "source": [
        "from sklearn.datasets import load_wine,load_iris\n",
        "from sklearn.preprocessing import StandardScaler\n"
      ],
      "metadata": {
        "id": "MaOrTKQIvLFJ"
      },
      "execution_count": null,
      "outputs": []
    },
    {
      "cell_type": "markdown",
      "source": [
        "wine dataset"
      ],
      "metadata": {
        "id": "63mmwy7_v_T2"
      }
    },
    {
      "cell_type": "code",
      "source": [
        "# Load the wine dataset\n",
        "wine = load_wine()\n",
        "\n",
        "# Extract the features and target variable from the dataset\n",
        "X = wine.data"
      ],
      "metadata": {
        "id": "g2vDob5LvXVh"
      },
      "execution_count": null,
      "outputs": []
    },
    {
      "cell_type": "code",
      "source": [
        "# Check if attributes are standardized or not\n",
        "print(\"Mean: \", X.mean(axis=0))\n",
        "print(\"Standard Deviation: \", X.std(axis=0))"
      ],
      "metadata": {
        "colab": {
          "base_uri": "https://localhost:8080/"
        },
        "id": "n8lEkFZNvZG9",
        "outputId": "d5641dde-ce86-4793-cefc-988b86873a5f"
      },
      "execution_count": null,
      "outputs": [
        {
          "output_type": "stream",
          "name": "stdout",
          "text": [
            "Mean:  [1.30006180e+01 2.33634831e+00 2.36651685e+00 1.94949438e+01\n",
            " 9.97415730e+01 2.29511236e+00 2.02926966e+00 3.61853933e-01\n",
            " 1.59089888e+00 5.05808988e+00 9.57449438e-01 2.61168539e+00\n",
            " 7.46893258e+02]\n",
            "Standard Deviation:  [8.09542915e-01 1.11400363e+00 2.73572294e-01 3.33016976e+00\n",
            " 1.42423077e+01 6.24090564e-01 9.96048950e-01 1.24103260e-01\n",
            " 5.70748849e-01 2.31176466e+00 2.27928607e-01 7.07993265e-01\n",
            " 3.14021657e+02]\n"
          ]
        }
      ]
    },
    {
      "cell_type": "code",
      "source": [
        "# Standardize the attributes\n",
        "scaler = StandardScaler()\n",
        "X_std = scaler.fit_transform(X)\n"
      ],
      "metadata": {
        "id": "cB3ilpH9vbBP"
      },
      "execution_count": null,
      "outputs": []
    },
    {
      "cell_type": "code",
      "source": [
        "# Verify if attributes are standardized or not\n",
        "print(\"Mean after Standardization: \", X_std.mean(axis=0))\n",
        "print(\"Standard Deviation after Standardization: \", X_std.std(axis=0))"
      ],
      "metadata": {
        "colab": {
          "base_uri": "https://localhost:8080/"
        },
        "id": "XlfCBLxPvdC-",
        "outputId": "74e44678-9a33-4853-81f7-5347e5f36e07"
      },
      "execution_count": null,
      "outputs": [
        {
          "output_type": "stream",
          "name": "stdout",
          "text": [
            "Mean after Standardization:  [ 7.84141790e-15  2.44498554e-16 -4.05917497e-15 -7.11041712e-17\n",
            " -2.49488320e-17 -1.95536471e-16  9.44313292e-16 -4.17892936e-16\n",
            " -1.54059038e-15 -4.12903170e-16  1.39838203e-15  2.12688793e-15\n",
            " -6.98567296e-17]\n",
            "Standard Deviation after Standardization:  [1. 1. 1. 1. 1. 1. 1. 1. 1. 1. 1. 1. 1.]\n"
          ]
        }
      ]
    },
    {
      "cell_type": "markdown",
      "source": [
        "iris dataset"
      ],
      "metadata": {
        "id": "pC5MdX-5wBjm"
      }
    },
    {
      "cell_type": "code",
      "source": [
        "# Load the iris dataset\n",
        "iris = load_iris()"
      ],
      "metadata": {
        "id": "L4_JpSqvvdac"
      },
      "execution_count": null,
      "outputs": []
    },
    {
      "cell_type": "code",
      "source": [
        "# Extract the features and target variable from the dataset\n",
        "X = iris.data\n"
      ],
      "metadata": {
        "id": "h0RLcqZBwHab"
      },
      "execution_count": null,
      "outputs": []
    },
    {
      "cell_type": "code",
      "source": [
        "# Check if the attributes are standardized or not\n",
        "print(\"Mean of Attributes: \", X.mean(axis=0))\n",
        "print(\"Standard Deviation of Attributes: \", X.std(axis=0))"
      ],
      "metadata": {
        "colab": {
          "base_uri": "https://localhost:8080/"
        },
        "id": "ZfmDtZUzwQXx",
        "outputId": "c1cf7dc0-e95d-4bbf-8840-6faaf7e9a7c4"
      },
      "execution_count": null,
      "outputs": [
        {
          "output_type": "stream",
          "name": "stdout",
          "text": [
            "Mean of Attributes:  [5.84333333 3.05733333 3.758      1.19933333]\n",
            "Standard Deviation of Attributes:  [0.82530129 0.43441097 1.75940407 0.75969263]\n"
          ]
        }
      ]
    },
    {
      "cell_type": "code",
      "source": [
        "# Standardize the attributes\n",
        "scaler = StandardScaler()\n",
        "X_std = scaler.fit_transform(X)"
      ],
      "metadata": {
        "id": "fuGIvbhawTj4"
      },
      "execution_count": null,
      "outputs": []
    },
    {
      "cell_type": "code",
      "source": [
        "# Verify if the attributes are standardized or not\n",
        "print(\"Mean of Standardized Attributes: \", X_std.mean(axis=0))\n",
        "print(\"Standard Deviation of Standardized Attributes: \", X_std.std(axis=0))"
      ],
      "metadata": {
        "colab": {
          "base_uri": "https://localhost:8080/"
        },
        "id": "7tSSj-yVwV6f",
        "outputId": "87004908-56bf-40c6-aa5c-94f5fd659da4"
      },
      "execution_count": null,
      "outputs": [
        {
          "output_type": "stream",
          "name": "stdout",
          "text": [
            "Mean of Standardized Attributes:  [-1.69031455e-15 -1.84297022e-15 -1.69864123e-15 -1.40924309e-15]\n",
            "Standard Deviation of Standardized Attributes:  [1. 1. 1. 1.]\n"
          ]
        }
      ]
    },
    {
      "cell_type": "code",
      "source": [],
      "metadata": {
        "id": "EUqmc23EwX5I"
      },
      "execution_count": null,
      "outputs": []
    }
  ],
  "metadata": {
    "kernelspec": {
      "display_name": "Python 3",
      "language": "python",
      "name": "python3"
    },
    "language_info": {
      "codemirror_mode": {
        "name": "ipython",
        "version": 3
      },
      "file_extension": ".py",
      "mimetype": "text/x-python",
      "name": "python",
      "nbconvert_exporter": "python",
      "pygments_lexer": "ipython3",
      "version": "3.7.4"
    },
    "colab": {
      "provenance": []
    }
  },
  "nbformat": 4,
  "nbformat_minor": 0
}